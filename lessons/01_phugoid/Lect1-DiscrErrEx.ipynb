{
 "metadata": {
  "name": "",
  "signature": "sha256:effbffdc26bf91aa7644da87f65256a14432622930287147cdbd9dd7daa6436c"
 },
 "nbformat": 3,
 "nbformat_minor": 0,
 "worksheets": [
  {
   "cells": [
    {
     "cell_type": "heading",
     "level": 1,
     "metadata": {},
     "source": [
      "Math 298: Lecture 1"
     ]
    },
    {
     "cell_type": "heading",
     "level": 4,
     "metadata": {},
     "source": [
      "Example 1: Discretization error\n",
      "This example illustrates the effects of discretization error in computing\n",
      "a finite difference derivative to $f(x) = \\sin(x)$"
     ]
    },
    {
     "cell_type": "markdown",
     "metadata": {},
     "source": [
      "First need to import the necessary libraries"
     ]
    },
    {
     "cell_type": "code",
     "collapsed": false,
     "input": [
      "%matplotlib inline\n",
      "import numpy as np\n",
      "import matplotlib.pyplot as plt"
     ],
     "language": "python",
     "metadata": {},
     "outputs": [],
     "prompt_number": 69
    },
    {
     "cell_type": "markdown",
     "metadata": {},
     "source": [
      "We will first create an array of points at which we will evaluate the derivate.  For this example, we will evaluate the derivative at x = 1.0, but we could have chosen any value."
     ]
    },
    {
     "cell_type": "code",
     "collapsed": false,
     "input": [
      "n = 20\n",
      "x = np.ones(n) # create an array of ones"
     ],
     "language": "python",
     "metadata": {},
     "outputs": [],
     "prompt_number": 70
    },
    {
     "cell_type": "code",
     "collapsed": false,
     "input": [
      "x = math.pi*x  # pick an \"arbitrary\" point to evaluate derivative at"
     ],
     "language": "python",
     "metadata": {},
     "outputs": [],
     "prompt_number": 71
    },
    {
     "cell_type": "markdown",
     "metadata": {},
     "source": [
      "First we will need to create an array that will hold the different values of the step size.  Here I start by initializing $h_0 = 0.1$ and then raising that value to powers in the range $0, 1, 2, 3, ..., 19$"
     ]
    },
    {
     "cell_type": "code",
     "collapsed": false,
     "input": [
      "h0   = 0.1*np.ones(n)\n",
      "h    = h0**np.arange(n) # create an array of increasingly smaller h values"
     ],
     "language": "python",
     "metadata": {},
     "outputs": [],
     "prompt_number": 72
    },
    {
     "cell_type": "markdown",
     "metadata": {},
     "source": [
      "Now compute the value of the forward finite difference derivative as well as the error. \n",
      "Note that for $sin(x)$ we know the exact derivative, i.e. $cos(x)$, so we can compute the exact error"
     ]
    },
    {
     "cell_type": "code",
     "collapsed": false,
     "input": [
      "yhat = (sin(x+h) - sin(x))/h # compute finite difference\n",
      "err  = abs(yhat - cos(x))    # compute error in numerical approximation"
     ],
     "language": "python",
     "metadata": {},
     "outputs": [],
     "prompt_number": 73
    },
    {
     "cell_type": "markdown",
     "metadata": {},
     "source": [
      "Now let's plot the results and see how well we did"
     ]
    },
    {
     "cell_type": "code",
     "collapsed": false,
     "input": [
      "plt.loglog(h,err) # Now plot the results\n",
      "plt.title('Error in derivative vs. h')\n",
      "plt.show"
     ],
     "language": "python",
     "metadata": {},
     "outputs": [
      {
       "metadata": {},
       "output_type": "pyout",
       "prompt_number": 74,
       "text": [
        "<function matplotlib.pyplot.show>"
       ]
      },
      {
       "metadata": {},
       "output_type": "display_data",
       "png": "[encoded data removed]",
       "text": [
        "<matplotlib.figure.Figure at 0x108a89b90>"
       ]
      }
     ],
     "prompt_number": 74
    },
    {
     "cell_type": "markdown",
     "metadata": {},
     "source": [
      "Save figure for later viewing"
     ]
    },
    {
     "cell_type": "code",
     "collapsed": true,
     "input": [
      "plt.savefig('Lect1-fig1.png')"
     ],
     "language": "python",
     "metadata": {},
     "outputs": [
      {
       "metadata": {},
       "output_type": "display_data",
       "text": [
        "<matplotlib.figure.Figure at 0x10acaa450>"
       ]
      }
     ],
     "prompt_number": 75
    },
    {
     "cell_type": "markdown",
     "metadata": {},
     "source": [
      "There are of course other methods for computing finite differences.  You may want to play around with some of them!"
     ]
    }
   ],
   "metadata": {}
  }
 ]
}