{
 "metadata": {
  "name": "",
  "signature": "sha256:e32bb05baa5629dd3a691d87f706e170bda34ed8c947e5c6317df1d4ebb662c3"
 },
 "nbformat": 3,
 "nbformat_minor": 0,
 "worksheets": []
}