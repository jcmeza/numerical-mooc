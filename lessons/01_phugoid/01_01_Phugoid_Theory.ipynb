{
 "cells": [
  {
<<<<<<< HEAD
   "cells": [
    {
     "cell_type": "heading",
     "level": 6,
     "metadata": {},
     "source": [
      "Content under Creative Commons Attribution license CC-BY 4.0, code under MIT license (c)2014 L.A. Barba, C. Cooper, G.F. Forsyth, A. Krishnan."
     ]
    },
    {
     "cell_type": "heading",
     "level": 1,
     "metadata": {},
     "source": [
      "Phugoid Motion"
     ]
    },
    {
     "cell_type": "markdown",
     "metadata": {},
     "source": [
      "Welcome to [**\"Practical Numerical Methods with Python!\"**](http://openedx.seas.gwu.edu/courses/GW/MAE6286/2014_fall/about) This course is a collaborative, online, open education project, where we aim to give a foundation in scientific computing. The focus is on numerical solution of problems modeled by ordinary and partial differential equations.\n",
      "\n",
      "This IPython Notebook introduces the problem we'll be studying in the **first module** of the course: the _phugoid model of glider flight_. We'll start with some background, explaining the physics, and working out the mathematical model. \n",
      "\n",
      "First, we'll look at an idealized motion where there is no drag, resulting in a simple harmonic motion. We can plot some interesting trajectories that will pique your imagination. In the next notebook, you'll learn to numerically integrate the differential equation using Euler's method. But hang on ... first things first. \n",
      "\n",
      "The term \"phugoid\" is used in aeronautics to refer to a motion pattern where an aircraft oscillates up and down \u2014nose-up and climb, then nose-down and descend\u2014 around an equilibrium trajectory.  The aircraft oscillates in altitude, speed and pitch, with only small (neglected) variations in the angle of attack, as it repeatedly exchanges kinetic and potential energy.\n",
      "\n",
      "A low-amplitude phugoid motion can be just a nuisance, as the aircraft does not exceed the stall angle of attack and nothing bad happens. But the mode can also be unstable leading to a stall or even a loop!\n",
      "\n",
      "Look at this video showing a Cessna single-engine airplane in phugoid motion:"
     ]
    },
    {
     "cell_type": "code",
     "collapsed": false,
     "input": [
      "from IPython.display import YouTubeVideo\n",
      "YouTubeVideo('ysdU4mnRYdM')"
     ],
     "language": "python",
     "metadata": {},
     "outputs": [
      {
       "html": [
        "\n",
        "        <iframe\n",
        "            width=\"400\"\n",
        "            height=300\"\n",
        "            src=\"https://www.youtube.com/embed/ysdU4mnRYdM\"\n",
        "            frameborder=\"0\"\n",
        "            allowfullscreen\n",
        "        ></iframe>\n",
        "        "
       ],
       "metadata": {},
       "output_type": "pyout",
       "prompt_number": 1,
       "text": [
        "<IPython.lib.display.YouTubeVideo at 0x105c84f50>"
       ]
      }
     ],
     "prompt_number": 1
    },
    {
     "cell_type": "markdown",
     "metadata": {},
     "source": [
      "That doesn't look too good! What's happening? \n",
      "\n",
      "It can get a lot worse when an aircraft enters one of these modes that is unstable. For example, one of [NASA's Helios Solar Powered Aircraft](http://www.nasa.gov/centers/dryden/history/pastprojects/Helios/) prototype broke up in mid air due to extreme phugoid oscillations!\n",
      "\n",
      "Helios was a proof-of-concept solar electric-powered flying wing that broke the world altitude record for a non-rocket-powered aircraft in August 2001. But in June 26, 2003, it broke something else. The aircraft entered phugoid motion after encountering turbulence near the Hawaiian Island of Kauai. The high speed in the oscillatory movement exceeded the design limits, and it ended up wrecked in the Pacific Ocean. Luckily, the Helios was remotely operated, and nobody got hurt."
     ]
    },
    {
     "cell_type": "heading",
     "level": 2,
     "metadata": {},
     "source": [
      "The physics of phugoids"
     ]
    },
    {
     "cell_type": "markdown",
     "metadata": {},
     "source": [
      "The phugoid oscillation has the aircraft pitching up and down, as it decelerates and accelerates. The trajectory might look like a sinusoid, as in the figure below. The assumption is that the forward velocity of the aircraft, $v$, varies in such a way that the angle of attack remains (nearly) constant, which means that we can assume a constant lift coefficient."
     ]
    },
    {
     "cell_type": "markdown",
     "metadata": {},
     "source": [
      "![Image](./figures/oscillatory_trajectory.png)\n",
      "####Figure 1. Trajectory of an aircraft in phugoid motion."
     ]
    },
    {
     "cell_type": "markdown",
     "metadata": {},
     "source": [
      "In the descending portion of the trajectory, the aircraft's velocity increases as it proceeds from a peak to the minimum height\u2014gaining kinetic energy at the expense of potential energy. The contrary happens in the upward segment, as its velocity decreases there.\n",
      "\n",
      "We measure the pitch angle (between the aircraft's longitudinal axis and the horizontal) as positive when the aircraft's nose is pointing up. In the portion of the trajectory below the center-line, where it curves upwards, the pitch angle $\\theta$ is increasing: $\\dot{\\theta}>0$. And where the trajectory curves down, the pitch angle is decreasing: $\\dot{\\theta}<0$, as shown in the figure.\n",
      "\n",
      "Let's remind ourselves of the forces affecting an aircraft in a downward glide. Look at the figure below: we show the flight path, the forces on the glider (no thrust), and the _glide angle_ or flight path angle, $\\gamma$, between the flight path and the horizontal."
     ]
    },
    {
     "cell_type": "markdown",
     "metadata": {},
     "source": [
      "![Image](./figures/glider_forces.png)\n",
      "####Figure 2. Forces on a glider."
     ]
    },
    {
     "cell_type": "markdown",
     "metadata": {},
     "source": [
      "The force of lift, $L$ \u2014created by the airflow around the wings\u2014 is perpendicular to the trajectory, and the force of drag, $D$, is parallel to the trajectory. Both forces are expressed in terms of coefficients of lift and drag, $C_L$ and $C_D$, respectively, that depend on the wing design and _angle of attack_\u2014the angle between the wing chord and the flight path.\n",
      "\n",
      "If you are not familiar with airplane aerodynamics, you might be getting confused with some terms here ... and all those angles! But be patient and look things up, if you need to. We're giving you a quick summary here.\n",
      "\n",
      "Lift and drag are proportional to a surface area, $S$, and the dynamic pressure: $1/2 \\rho v^2$, where $\\rho$ is the density of air, and $v$ the forward velocity of the aircraft. The equations for lift and drag are:\n",
      "\n",
      "$$\\begin{eqnarray}\n",
      "L &=& C_L S \\times \\frac{1}{2} \\rho v^2 \\\\\n",
      "D &=& C_D S \\times \\frac{1}{2} \\rho v^2\n",
      "\\end{eqnarray}$$\n",
      "\n",
      "If the glider were in equilibrium, the forces would balance each other. We can equate the forces in the directions perpendicular and parallel to the trajectory, as follows:\n",
      "\n",
      "$$\\begin{equation}\n",
      "L = W \\cos \\gamma \\quad \\text{and} \\quad D = W \\sin \\gamma\n",
      "\\end{equation}$$\n",
      "\n",
      "where $W$ repesents the weight of the glider.\n",
      "\n",
      "In the figure, we've drawn the angle $\\gamma$ as the _glide angle_, formed between the direction of motion and the horizontal. We are not bothered with the _sign_ of the angle, because we draw a free-body diagram and take the direction of the forces into account in writing our balance equations. But later on, we will need to be careful with the sign of the angles. It can cause you a real headache to keep this straight, so be patient!\n",
      "\n",
      "It looks like we've set this up to do a little bit of mathematics. Are you ready?\n",
      "\n",
      "But before, a short glimpse of the history."
     ]
    },
    {
     "cell_type": "heading",
     "level": 2,
     "metadata": {},
     "source": [
      "Lanchester's Aerodonetics"
     ]
    },
    {
     "cell_type": "markdown",
     "metadata": {},
     "source": [
      "\"Phugoid theory\" was first described by the British engineer Frederick W. Lanchester in _\"Aerodonetics\"_ (1909). This book is so old that it is now in the public domain, so you can actually download [from Google Books](http://books.google.com/books?id=6hxDAAAAIAAJ&dq=%22phugoid%20theory%20deals%20with%20the%20longitudinal%20stability%22&pg=PA37#v=onepage&q=%22phugoid%20theory%20deals%20with%20the%20longitudinal%20stability%22&f=false) a PDF file of a scan, or read it online. \n",
      "\n",
      "Lanchester defines phugoid theory as the study of longitudinal stability of a flying machine (aerodone). He first considered the simplification where drag and moment of inertia are neglected. Then he included these effects, obtaining an equation of stability. In addition to describing many experiments by himself and others, Lanchester also reports on _\"numerical work ... done by the aid of an ordinary 25-cm slide rule.\"_ Go figure!"
     ]
    },
    {
     "cell_type": "heading",
     "level": 3,
     "metadata": {},
     "source": [
      "Ideal case of zero drag"
     ]
    },
    {
     "cell_type": "markdown",
     "metadata": {},
     "source": [
      "In this section, we follow the derivation given by Milne-Thompson (1966), which we find a little bit easier than that of the original in \"Aerodonetics\"!\n",
      "\n",
      "An aircraft flying in a steady, straight horizontal flight has a lift equal to its weight. The velocity in this condition is sometimes called _trim velocity_ (\"trim\" is what pilots do to set the controls to just stay in a steady flight). Let's use $v_t$ for the trim velocity, and from $L=W$ deduce that:\n",
      "\n",
      "$$\\begin{equation}\n",
      "W = C_L S \\times\\frac{1}{2} \\rho v_t^2\n",
      "\\end{equation}$$\n",
      "\n",
      "The weight $W$ is constant for the aircraft, but the lift at any other flight condition depends on the flight speed, $v$. We can use the expression for the weight in terms of $v_t$ to obtain the ratio $L/W$ at any other flight velocity, as follows:\n",
      "\n",
      "$$\\begin{equation}\n",
      "\\frac{L}{W}= \\frac{v^2}{v_t^2}\n",
      "\\end{equation}$$\n",
      "\n",
      "Imagine that the aircraft experienced a little upset, a wind gust, and it finds itself off the \"trim\" level, in a curved path with an instantaneous angle $\\theta$. In the sketch below, we exaggerate the curved trajectory of flight to help you visualize what we'll do next. The angle $\\theta$ (using the same name as Milne-Thompson) is between the _trajectory_ and the horizontal, positive up."
     ]
    },
    {
     "cell_type": "markdown",
     "metadata": {},
     "source": [
      "![Image](./figures/glider_forces_nodrag.png)\n",
      "####Figure 3. Curved trajectory of the aircraft going up."
     ]
    },
    {
     "cell_type": "markdown",
     "metadata": {},
     "source": [
      "A balance of forces now has to take into account that our reference frame is moving with the aircraft, in a rotating frame: we have a centrifugal force. The balance in the direction of lift is thus:\n",
      "\n",
      "$$\\begin{equation}\n",
      "L- W \\cos \\theta = \\frac{W}{g} \\frac{v^2}{R}\n",
      "\\end{equation}$$\n",
      "\n",
      "where $R$ is the radius of curvature of the trajectory, and $g$ the acceleration of gravity. Recall that the centrifugal acceleration is $v^2/R$. Rearrange this by dividing the equation by the weight, and use the expression we found for $L/W$, above. The following equation results:\n",
      "\n",
      "$$\\begin{equation}\n",
      "\\frac{v^2}{v_t^2}-\\cos \\theta = \\frac{v^2}{g R}\n",
      "\\end{equation}$$\n",
      "\n",
      "Recall that we simplified the problem assuming that there is no friction, which means that the total energy is constant (the lift does no work). If $z$ represents the depth below a reference horizontal line, the energy per unit mass is (kinetic plus potential energy):\n",
      "\n",
      "$$\\begin{equation}\n",
      "\\frac{1}{2}v^2-g z = \\text{constant}\n",
      "\\end{equation}$$\n",
      "\n",
      "To get rid of that pesky constant, we can choose the reference horizontal line at the level that makes the constant energy equal to zero, so $v^2 = 2 g z$. That helps us re-write the phugoid equation in terms of $z$ as follows:\n",
      "\n",
      "$$\\begin{equation}\n",
      "\\frac{z}{z_t}-\\cos \\theta = \\frac{2z}{R}\n",
      "\\end{equation}$$\n",
      "\n",
      "Let $ds$ represent a small arc-length of the trajectory. We can write \n",
      "\n",
      "$$\\begin{equation}\n",
      "\\frac{1}{R} = \\frac{d\\theta}{ds} \\quad \\text{and}\\quad  \\sin\\theta = -\\frac{dz}{ds}\n",
      "\\end{equation}$$\n",
      "\n",
      "Employing the chain rule of calculus,\n",
      "\n",
      "$$\\begin{equation}\n",
      "\\frac{1}{R} = \\frac{d\\theta}{ds} = \\frac{dz}{ds}\\frac{d\\theta}{dz} = -\\sin \\theta\\frac{d\\theta}{dz}\n",
      "\\end{equation}$$\n",
      "\n",
      "Multiply the phugoid equation by $\\frac{1}{2\\sqrt{z}}$ to get:\n",
      "\n",
      "$$\\begin{equation}\n",
      "\\frac{\\sqrt{z}}{2z_t} - \\frac{\\cos\\theta}{2\\sqrt{z}} = \\frac{\\sqrt{z}}{R}\n",
      "\\end{equation}$$\n",
      "\n",
      "Substituting for $1/R$ on the right hand side and bringing the cosine term over to the right, we get:\n",
      "\n",
      "$$\\begin{equation}\n",
      "\\frac{\\sqrt{z}}{2z_t} = \\frac{\\cos \\theta}{2 \\sqrt{z}} - \\sqrt{z} \\sin \\theta \\frac{d\\theta}{dz}\n",
      "\\end{equation}$$\n",
      "\n",
      "The right-hand-side is an exact derivative! We can rewrite it as:\n",
      "\n",
      "$$\\begin{equation}\n",
      "\\frac{d}{dz} \\left(\\sqrt{z}\\cos\\theta \\right) = \\frac{\\sqrt{z}}{2z_t}\n",
      "\\end{equation}$$\n",
      "\n",
      "Integrating this equation, we add an arbitrary constant, chosen as $C\\sqrt{z_t}$ which (after dividing through by $\\sqrt{z}$) gives:\n",
      "\n",
      "$$\\begin{equation}\n",
      "\\cos \\theta = \\frac{1}{3}\\frac{z}{z_t} + C\\sqrt{\\frac{z_t}{z}}\n",
      "\\end{equation}$$\n",
      "\n",
      "Taking the derivative of both sides of equation (15) and applying the relations from equation (10) yields:\n",
      "\n",
      "$$\\begin{equation}\n",
      "\\frac{z_t}{R} = \\frac{1}{3} - \\frac{C}{2}\\sqrt{\\frac{z_t^3}{z^3}}\n",
      "\\end{equation}$$\n",
      "\n",
      "Make sure you have followed the derivation, and perhaps write it out on paper!"
     ]
    },
    {
     "cell_type": "heading",
     "level": 2,
     "metadata": {},
     "source": [
      "Phugoid Curves"
     ]
    },
    {
     "cell_type": "markdown",
     "metadata": {},
     "source": [
      "Equation (15) is non-linear, which usually means we are hard-pressed to write a clean expression for the variable of interest, $z$.  In fact, Lanchester himself said that he was unable to _\"reduce this expression to a form suitable for co-ordinate plotting.\"_ If the great polymath couldn't do it, we can't either!\n",
      "\n",
      "But Lanchester _was_ able to plot a suitable approximation of the phugoid flight path using what he called the \"trammel\" method.  If you're interested in seeing how he did it, his explanation begins on page [48 of Aerodonetics](http://books.google.com/books?id=6hxDAAAAIAAJ&pg=PA49&lpg=PA48&dq=aerodonetics+the+use+of+the+trammel&source=bl&ots=lB6EVKYQuT&sig=aVE2kiDWZoWftaWczMIrcYftMOs&hl=en&sa=X&ei=gTD_U82fGYjzgwT3moGwCQ&ved=0CCAQ6AEwAA#v=onepage&q=aerodonetics%20the%20use%20of%20the%20trammel&f=false).  It's a trip.\n",
      "\n",
      "Lanchester used Equations (15) and (16) to solve for the constant $C$ and the radius of curvature $R$ and then iteratively plotted small arcs of the phugoid path. By hand.\n",
      "\n",
      "We wrote a neat little code that duplicates the manual trammel method, but it might be a bit much for you to absorb in the first lesson.  If you want to look it over, you are more than welcome to.  If you are just starting with Python, skip it for the moment and we'll return to it at the end of this module.  "
     ]
    },
    {
     "cell_type": "markdown",
     "metadata": {},
     "source": [
      "###Plotting the flight path"
     ]
    },
    {
     "cell_type": "markdown",
     "metadata": {},
     "source": [
      "As we mentioned, we wrote a Python code to reproduce programmatically what Lanchester did graphically. Here's a neat feature of IPython Notebooks: you can run external programs with the magical keyword ... wait for it ... `run`. And the jargon of IPython _is_ to call this \"magic.\" In fact, there are a bunch of [magic functions](http://ipython.org/ipython-doc/dev/interactive/tutorial.html) that you will learn about. They will make you a happy camper.\n",
      "\n",
      "Let's do it:"
     ]
    },
    {
     "cell_type": "code",
     "collapsed": false,
     "input": [
      "%run phugoid.py\n",
      "%matplotlib inline"
     ],
     "language": "python",
     "metadata": {},
     "outputs": [],
     "prompt_number": 3
    },
    {
     "cell_type": "markdown",
     "metadata": {},
     "source": [
      "This code cell loaded our simulated-trammel code, `phugoid.py`. The code defined a function for you in the background, called `plot_flight_path`, taking three inputs: $z_t$, $z$ and $\\theta$.  \n",
      "\n",
      "Look again at Equation (15), where we take the positive square root. There are several possibilities, depending on the value that the constant $C$ takes. \n",
      "\n",
      "* There are no physical solutions for $C>2/3$, because it would result in $\\cos\\theta>1$. \n",
      "\n",
      "* If $C=2/3$, then the solution is a horizontal straight line, because $\\cos\\theta=1$, $\\theta=0$ and $R=\\infty$.\n",
      "\n",
      "* Any value of $C$ for which $0 < C < \\frac{2}{3}$ will produce \"trochoidal\"-like paths.  What does this look like? Let's use our custom function `plot_flight_path` to find out!"
     ]
    },
    {
     "cell_type": "code",
     "collapsed": false,
     "input": [
      "#zt = 64, z = 16, theta=0\n",
      "plot_flight_path(64, 16, 0)"
     ],
     "language": "python",
     "metadata": {},
     "outputs": [
      {
       "metadata": {},
       "output_type": "display_data",
       "png": "iVBORw0KGgoAAAANSUhEUgAAAnkAAAGXCAYAAADPr0bOAAAABHNCSVQICAgIfAhkiAAAAAlwSFlz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\nkqQOWeRJkiR1yCJPkiSpQxZ5kiRJHfo3bdnHeoFEgfEAAAAASUVORK5CYII=\n",
       "text": [
        "<matplotlib.figure.Figure at 0x105c716d0>"
       ]
      }
     ],
     "prompt_number": 4
    },
    {
     "cell_type": "markdown",
     "metadata": {},
     "source": [
      "Cool!  Note that the plot title tells us what the calculated value of $C$ was for our input conditions.  We have a value of $C$ between $0$ and $\\frac{2}{3}$ and our path is trochoidal, like we announced it would be.\n",
      "\n",
      "* For negative values of $C$, the resultant flight path consists of a series of loops.  Let's try it out!"
     ]
    },
    {
     "cell_type": "code",
     "collapsed": false,
     "input": [
      "plot_flight_path(64,16,numpy.pi)"
     ],
     "language": "python",
     "metadata": {},
     "outputs": [
      {
       "metadata": {},
       "output_type": "display_data",
       "png": "iVBORw0KGgoAAAANSUhEUgAAAnEAAAGXCAYAAADceAY6AAAABHNCSVQICAgIfAhkiAAAAAlwSFlz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\naPw//e52Qkv9k64AAAAASUVORK5CYII=\n",
       "text": [
        "<matplotlib.figure.Figure at 0x7fa6a975c550>"
       ]
      }
     ],
     "prompt_number": 4
    },
    {
     "cell_type": "markdown",
     "metadata": {},
     "source": [
      "You can play around with the input values and see what kind of behavior results.  Just note that any value of $C > \\frac{2}{3}$ will result in $\\cos \\theta > 1$, which doesn't exist.  Python will probably throw a few errors if you hit that condition, but just try again!"
     ]
    },
    {
     "cell_type": "markdown",
     "metadata": {},
     "source": [
      "* The last case is $C = 0$.  Take another look at Equation (16) and plug in $C = 0$, what should happen? It looks like it will just reduce to \n",
      "\n",
      "$$R = 3z_t$$\n",
      "\n",
      "It's a constant radius of curvature!  In fact, this solution is a series of semi-circles, with a cusp between them. One way to force $C = 0$ that we can figure out from Equation (15), is to make:\n",
      "\n",
      "\n",
      "$$z = 3z_t\\ \\ \\ ,\\ \\ \\  \\theta = 0$$"
     ]
    },
    {
     "cell_type": "code",
     "collapsed": false,
     "input": [
      "plot_flight_path(16,48,0.)"
     ],
     "language": "python",
     "metadata": {},
     "outputs": [
      {
       "output_type": "stream",
       "stream": "stderr",
       "text": [
        "<string>:25: RuntimeWarning: invalid value encountered in double_scalars\n"
       ]
      },
      {
       "metadata": {},
       "output_type": "display_data",
       "png": "iVBORw0KGgoAAAANSUhEUgAAAmoAAAGXCAYAAAADNnwlAAAABHNCSVQICAgIfAhkiAAAAAlwSFlz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\nAAAAfOr/AzPZHM1OsgqzAAAAAElFTkSuQmCC\n",
       "text": [
        "<matplotlib.figure.Figure at 0x105c84e10>"
       ]
      }
     ],
     "prompt_number": 5
    },
    {
     "cell_type": "markdown",
     "metadata": {},
     "source": [
      "That looks an awful lot like a quarter circle.  And what's the radius of the arc?  It's $$r = 48 = 3z_t.$$\n",
      "\n",
      "We can also get a semi-circle out of our simulated trammel by changing to another configuration where $C$ is (near) zero. Here's one example:"
     ]
    },
    {
     "cell_type": "code",
     "collapsed": false,
     "input": [
      "plot_flight_path(64,16,-numpy.pi/2)"
     ],
     "language": "python",
     "metadata": {},
     "outputs": [
      {
       "metadata": {},
       "output_type": "display_data",
       "png": "iVBORw0KGgoAAAANSUhEUgAAAnoAAAGXCAYAAAAkmP3NAAAABHNCSVQICAgIfAhkiAAAAAlwSFlz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\nRU5ErkJggg==\n",
       "text": [
        "<matplotlib.figure.Figure at 0x107892e50>"
       ]
      }
     ],
     "prompt_number": 6
    },
    {
     "cell_type": "markdown",
     "metadata": {},
     "source": [
      "That is so nice. We have reproduced the trajectories that Lanchester found more than a hundred years ago, painstakingly drawing them by hand with a contraption called a \"trammel.\" It must have taken him days!\n",
      "\n",
      "Here is how the different phugoid curves are drawn in von K\u00e1rm\u00e1n's book, _Aerodynamics_ (1957). He never says _how_ he drew them, but we're guessing by hand, also. We did pretty good!"
     ]
    },
    {
     "cell_type": "markdown",
     "metadata": {},
     "source": [
      "![Image](./figures/vonKarman-phugoids.png)\n",
      "\n",
      "####Figure 4. Phugoid curves in von K\u00e1rm\u00e1n (1957)."
     ]
    },
    {
     "cell_type": "markdown",
     "metadata": {},
     "source": [
      "In the next notebook of this series, we'll look at the differential equation that arises when you consider small perturbations on the horizontal phugoid, and we'll learn to numerically integrate that to get the flight paths."
     ]
    },
    {
     "cell_type": "heading",
     "level": 2,
     "metadata": {},
     "source": [
      "References"
     ]
    },
    {
     "cell_type": "markdown",
     "metadata": {},
     "source": [
      "1. Lanchester, F. W. _Aerodonetics_, D. van Nostrand Company: New York, 1909. On the public domain. [Get it from Google Books](http://books.google.com/books?id=6hxDAAAAIAAJ&pg=PP1#v=onepage&q&f=false).\n",
      "\n",
      "2. Milne-Thompson, L. M. _Theoretical Aerodynamics_, Dover 2012 reprint of the revised 1966 edition. [Read on Google Books](http://books.google.com/books?id=EMfCAgAAQBAJ&lpg=PP1&pg=PP1#v=onepage&q&f=false) (see section 18.5)\n",
      "\n",
      "3. Sinha, N. K. and Ananthkrishnan, N. _Elementary Flight Dynamics with an introduction to Bifurcation and Continuation Methods_, CRC Press, 2013. [Read on Google Books](http://books.google.com/books?id=yXL6AQAAQBAJ&lpg=PP1&pg=PP1#v=onepage&q&f=false) (see chapter 5)\n",
      "\n",
      "4. von K\u00e1rm\u00e1n, T. _Aerodynamics_, Dover 2004 reprint of the 1957 2nd edition. (see pages 149\u2013151)"
     ]
    },
    {
     "cell_type": "heading",
     "level": 2,
     "metadata": {},
     "source": [
      "About this course"
     ]
    },
    {
     "cell_type": "markdown",
     "metadata": {},
     "source": [
      "This course is a collaborative project in open education. Three professors across the world are teaching connected courses, developing and reviewing course materials, and interacting with the community of learners that follow the course online. They are:\n",
      "\n",
      "* Lorena A. Barba, the George Washington University, United States\n",
      "* Carlos Jerez, Pontificia Universidad Cat\u00f3lica de Chile\n",
      "* Ian Hawke, Southampton University, United Kingdom"
     ]
    },
    {
     "cell_type": "markdown",
     "metadata": {},
     "source": [
      "---\n",
      "\n",
      "######The cell below loads the style of this notebook. "
     ]
    },
    {
     "cell_type": "code",
     "collapsed": false,
     "input": [
      "# Execute this cell to load the notebook's style sheet, then ignore it\n",
      "from IPython.core.display import HTML\n",
      "css_file = '../../styles/numericalmoocstyle.css'\n",
      "HTML(open(css_file, \"r\").read())"
     ],
     "language": "python",
     "metadata": {},
     "outputs": [
      {
       "html": [
        "<link href='http://fonts.googleapis.com/css?family=Alegreya+Sans:100,300,400,500,700,800,900,100italic,300italic,400italic,500italic,700italic,800italic,900italic' rel='stylesheet' type='text/css'>\n",
        "<link href='http://fonts.googleapis.com/css?family=Arvo:400,700,400italic' rel='stylesheet' type='text/css'>\n",
        "<link href='http://fonts.googleapis.com/css?family=PT+Mono' rel='stylesheet' type='text/css'>\n",
        "<link href='http://fonts.googleapis.com/css?family=Shadows+Into+Light' rel='stylesheet' type='text/css'>\n",
        "<link href='http://fonts.googleapis.com/css?family=Nixie+One' rel='stylesheet' type='text/css'>\n",
        "<style>\n",
        "\n",
        "@font-face {\n",
        "    font-family: \"Computer Modern\";\n",
        "    src: url('http://mirrors.ctan.org/fonts/cm-unicode/fonts/otf/cmunss.otf');\n",
        "}\n",
        "\n",
        "#notebook_panel { /* main background */\n",
        "    background: rgb(245,245,245);\n",
        "}\n",
        "\n",
        "div.cell { /* set cell width */\n",
        "    width: 750px;\n",
        "}\n",
        "\n",
        "div #notebook { /* centre the content */\n",
        "    background: #fff; /* white background for content */\n",
        "    width: 1000px;\n",
        "    margin: auto;\n",
        "    padding-left: 0em;\n",
        "}\n",
        "\n",
        "#notebook li { /* More space between bullet points */\n",
        "margin-top:0.8em;\n",
        "}\n",
        "\n",
        "/* draw border around running cells */\n",
        "div.cell.border-box-sizing.code_cell.running { \n",
        "    border: 1px solid #111;\n",
        "}\n",
        "\n",
        "/* Put a solid color box around each cell and its output, visually linking them*/\n",
        "div.cell.code_cell {\n",
        "    background-color: rgb(256,256,256); \n",
        "    border-radius: 0px; \n",
        "    padding: 0.5em;\n",
        "    margin-left:1em;\n",
        "    margin-top: 1em;\n",
        "}\n",
        "\n",
        "div.text_cell_render{\n",
        "    font-family: 'Alegreya Sans' sans-serif;\n",
        "    line-height: 140%;\n",
        "    font-size: 125%;\n",
        "    font-weight: 400;\n",
        "    width:600px;\n",
        "    margin-left:auto;\n",
        "    margin-right:auto;\n",
        "}\n",
        "\n",
        "\n",
        "/* Formatting for header cells */\n",
        ".text_cell_render h1 {\n",
        "    font-family: 'Nixie One', serif;\n",
        "    font-style:regular;\n",
        "    font-weight: 400;    \n",
        "    font-size: 45pt;\n",
        "    line-height: 100%;\n",
        "    color: rgb(0,51,102);\n",
        "    margin-bottom: 0.5em;\n",
        "    margin-top: 0.5em;\n",
        "    display: block;\n",
        "}\t\n",
        ".text_cell_render h2 {\n",
        "    font-family: 'Nixie One', serif;\n",
        "    font-weight: 400;\n",
        "    font-size: 30pt;\n",
        "    line-height: 100%;\n",
        "    color: rgb(0,51,102);\n",
        "    margin-bottom: 0.1em;\n",
        "    margin-top: 0.3em;\n",
        "    display: block;\n",
        "}\t\n",
        "\n",
        ".text_cell_render h3 {\n",
        "    font-family: 'Nixie One', serif;\n",
        "    margin-top:16px;\n",
        "\tfont-size: 22pt;\n",
        "    font-weight: 600;\n",
        "    margin-bottom: 3px;\n",
        "    font-style: regular;\n",
        "    color: rgb(102,102,0);\n",
        "}\n",
        "\n",
        ".text_cell_render h4 {    /*Use this for captions*/\n",
        "    font-family: 'Nixie One', serif;\n",
        "    font-size: 14pt;\n",
        "    text-align: center;\n",
        "    margin-top: 0em;\n",
        "    margin-bottom: 2em;\n",
        "    font-style: regular;\n",
        "}\n",
        "\n",
        ".text_cell_render h5 {  /*Use this for small titles*/\n",
        "    font-family: 'Nixie One', sans-serif;\n",
        "    font-weight: 400;\n",
        "    font-size: 16pt;\n",
        "    color: rgb(163,0,0);\n",
        "    font-style: italic;\n",
        "    margin-bottom: .1em;\n",
        "    margin-top: 0.8em;\n",
        "    display: block;\n",
        "}\n",
        "\n",
        ".text_cell_render h6 { /*use this for copyright note*/\n",
        "    font-family: 'PT Mono', sans-serif;\n",
        "    font-weight: 300;\n",
        "    font-size: 9pt;\n",
        "    line-height: 100%;\n",
        "    color: grey;\n",
        "    margin-bottom: 1px;\n",
        "    margin-top: 1px;\n",
        "}\n",
        "\n",
        ".CodeMirror{\n",
        "        font-family: \"PT Mono\";\n",
        "        font-size: 90%;\n",
        "}\n",
        "\n",
        "</style>\n",
        "<script>\n",
        "    MathJax.Hub.Config({\n",
        "                        TeX: {\n",
        "                           extensions: [\"AMSmath.js\"],\n",
        "                           equationNumbers: { autoNumber: \"AMS\", useLabelIds: true}\n",
        "                           },\n",
        "                tex2jax: {\n",
        "                    inlineMath: [ ['$','$'], [\"\\\\(\",\"\\\\)\"] ],\n",
        "                    displayMath: [ ['$$','$$'], [\"\\\\[\",\"\\\\]\"] ]\n",
        "                },\n",
        "                displayAlign: 'center', // Change this to 'center' to center equations.\n",
        "                \"HTML-CSS\": {\n",
        "                    styles: {'.MathJax_Display': {\"margin\": 4}}\n",
        "                }\n",
        "        });\n",
        "</script>\n"
       ],
       "metadata": {},
       "output_type": "pyout",
       "prompt_number": 7,
       "text": [
        "<IPython.core.display.HTML at 0x7fa6a95a84d0>"
       ]
      }
     ],
     "prompt_number": 7
=======
   "cell_type": "markdown",
   "metadata": {},
   "source": [
    "###### Content under Creative Commons Attribution license CC-BY 4.0, code under MIT license (c)2014 L.A. Barba, C. Cooper, G.F. Forsyth, A. Krishnan."
   ]
  },
  {
   "cell_type": "markdown",
   "metadata": {},
   "source": [
    "# Phugoid Motion"
   ]
  },
  {
   "cell_type": "markdown",
   "metadata": {},
   "source": [
    "Welcome to [**\"Practical Numerical Methods with Python!\"**](http://openedx.seas.gwu.edu/courses/GW/MAE6286/2014_fall/about) This course is a collaborative, online, open education project, where we aim to give a foundation in scientific computing. The focus is on numerical solution of problems modeled by ordinary and partial differential equations.\n",
    "\n",
    "This IPython Notebook introduces the problem we'll be studying in the **first module** of the course: the _phugoid model of glider flight_. We'll start with some background, explaining the physics, and working out the mathematical model. \n",
    "\n",
    "First, we'll look at an idealized motion where there is no drag, resulting in a simple harmonic motion. We can plot some interesting trajectories that will pique your imagination. In the next notebook, you'll learn to numerically integrate the differential equation using Euler's method. But hang on ... first things first. \n",
    "\n",
    "The term \"phugoid\" is used in aeronautics to refer to a motion pattern where an aircraft oscillates up and down —nose-up and climb, then nose-down and descend— around an equilibrium trajectory.  The aircraft oscillates in altitude, speed and pitch, with only small (neglected) variations in the angle of attack, as it repeatedly exchanges kinetic and potential energy.\n",
    "\n",
    "A low-amplitude phugoid motion can be just a nuisance, as the aircraft does not exceed the stall angle of attack and nothing bad happens. But the mode can also be unstable leading to a stall or even a loop!\n",
    "\n",
    "Look at this video showing a Cessna single-engine airplane in phugoid motion:"
   ]
  },
  {
   "cell_type": "code",
   "execution_count": 1,
   "metadata": {
    "collapsed": false
   },
   "outputs": [
    {
     "data": {
      "text/html": [
       "\n",
       "        <iframe\n",
       "            width=\"400\"\n",
       "            height=\"300\"\n",
       "            src=\"https://www.youtube.com/embed/ysdU4mnRYdM\"\n",
       "            frameborder=\"0\"\n",
       "            allowfullscreen\n",
       "        ></iframe>\n",
       "        "
      ],
      "text/plain": [
       "<IPython.lib.display.YouTubeVideo at 0x7f989071b780>"
      ]
     },
     "execution_count": 1,
     "metadata": {},
     "output_type": "execute_result"
    }
   ],
   "source": [
    "from IPython.display import YouTubeVideo\n",
    "YouTubeVideo('ysdU4mnRYdM')"
   ]
  },
  {
   "cell_type": "markdown",
   "metadata": {},
   "source": [
    "That doesn't look too good! What's happening? \n",
    "\n",
    "It can get a lot worse when an aircraft enters one of these modes that is unstable. For example, one of [NASA's Helios Solar Powered Aircraft](http://www.nasa.gov/centers/dryden/history/pastprojects/Helios/) prototype broke up in mid air due to extreme phugoid oscillations!\n",
    "\n",
    "Helios was a proof-of-concept solar electric-powered flying wing that broke the world altitude record for a non-rocket-powered aircraft in August 2001. But in June 26, 2003, it broke something else. The aircraft entered phugoid motion after encountering turbulence near the Hawaiian Island of Kauai. The high speed in the oscillatory movement exceeded the design limits, and it ended up wrecked in the Pacific Ocean. Luckily, the Helios was remotely operated, and nobody got hurt."
   ]
  },
  {
   "cell_type": "markdown",
   "metadata": {},
   "source": [
    "## The physics of phugoids"
   ]
  },
  {
   "cell_type": "markdown",
   "metadata": {},
   "source": [
    "The phugoid oscillation has the aircraft pitching up and down, as it decelerates and accelerates. The trajectory might look like a sinusoid, as in the figure below. The assumption is that the forward velocity of the aircraft, $v$, varies in such a way that the angle of attack remains (nearly) constant, which means that we can assume a constant lift coefficient."
   ]
  },
  {
   "cell_type": "markdown",
   "metadata": {},
   "source": [
    "![Image](./figures/oscillatory_trajectory.png)\n",
    "#### Figure 1. Trajectory of an aircraft in phugoid motion."
   ]
  },
  {
   "cell_type": "markdown",
   "metadata": {},
   "source": [
    "In the descending portion of the trajectory, the aircraft's velocity increases as it proceeds from a peak to the minimum height—gaining kinetic energy at the expense of potential energy. The contrary happens in the upward segment, as its velocity decreases there.\n",
    "\n",
    "We measure the pitch angle (between the aircraft's longitudinal axis and the horizontal) as positive when the aircraft's nose is pointing up. In the portion of the trajectory below the center-line, where it curves upwards, the pitch angle $\\theta$ is increasing: $\\dot{\\theta}>0$. And where the trajectory curves down, the pitch angle is decreasing: $\\dot{\\theta}<0$, as shown in the figure.\n",
    "\n",
    "Let's remind ourselves of the forces affecting an aircraft in a downward glide. Look at the figure below: we show the flight path, the forces on the glider (no thrust), and the _glide angle_ or flight path angle, $\\gamma$, between the flight path and the horizontal."
   ]
  },
  {
   "cell_type": "markdown",
   "metadata": {},
   "source": [
    "![Image](./figures/glider_forces.png)\n",
    "#### Figure 2. Forces on a glider."
   ]
  },
  {
   "cell_type": "markdown",
   "metadata": {},
   "source": [
    "The force of lift, $L$ —created by the airflow around the wings— is perpendicular to the trajectory, and the force of drag, $D$, is parallel to the trajectory. Both forces are expressed in terms of coefficients of lift and drag, $C_L$ and $C_D$, respectively, that depend on the wing design and _angle of attack_—the angle between the wing chord and the flight path.\n",
    "\n",
    "If you are not familiar with airplane aerodynamics, you might be getting confused with some terms here ... and all those angles! But be patient and look things up, if you need to. We're giving you a quick summary here.\n",
    "\n",
    "Lift and drag are proportional to a surface area, $S$, and the dynamic pressure: $1/2 \\rho v^2$, where $\\rho$ is the density of air, and $v$ the forward velocity of the aircraft. The equations for lift and drag are:\n",
    "\n",
    "$$\\begin{eqnarray}\n",
    "L &=& C_L S \\times \\frac{1}{2} \\rho v^2 \\\\\n",
    "D &=& C_D S \\times \\frac{1}{2} \\rho v^2\n",
    "\\end{eqnarray}$$\n",
    "\n",
    "If the glider were in equilibrium, the forces would balance each other. We can equate the forces in the directions perpendicular and parallel to the trajectory, as follows:\n",
    "\n",
    "$$\\begin{equation}\n",
    "L = W \\cos \\gamma \\quad \\text{and} \\quad D = W \\sin \\gamma\n",
    "\\end{equation}$$\n",
    "\n",
    "where $W$ repesents the weight of the glider.\n",
    "\n",
    "In the figure, we've drawn the angle $\\gamma$ as the _glide angle_, formed between the direction of motion and the horizontal. We are not bothered with the _sign_ of the angle, because we draw a free-body diagram and take the direction of the forces into account in writing our balance equations. But later on, we will need to be careful with the sign of the angles. It can cause you a real headache to keep this straight, so be patient!\n",
    "\n",
    "It looks like we've set this up to do a little bit of mathematics. Are you ready?\n",
    "\n",
    "But before, a short glimpse of the history."
   ]
  },
  {
   "cell_type": "markdown",
   "metadata": {},
   "source": [
    "## Lanchester's Aerodonetics"
   ]
  },
  {
   "cell_type": "markdown",
   "metadata": {},
   "source": [
    "\"Phugoid theory\" was first described by the British engineer Frederick W. Lanchester in _\"Aerodonetics\"_ (1909). This book is so old that it is now in the public domain, so you can actually download [from Google Books](http://books.google.com/books?id=6hxDAAAAIAAJ&dq=%22phugoid%20theory%20deals%20with%20the%20longitudinal%20stability%22&pg=PA37#v=onepage&q=%22phugoid%20theory%20deals%20with%20the%20longitudinal%20stability%22&f=false) a PDF file of a scan, or read it online. \n",
    "\n",
    "Lanchester defines phugoid theory as the study of longitudinal stability of a flying machine (aerodone). He first considered the simplification where drag and moment of inertia are neglected. Then he included these effects, obtaining an equation of stability. In addition to describing many experiments by himself and others, Lanchester also reports on _\"numerical work ... done by the aid of an ordinary 25-cm slide rule.\"_ Go figure!"
   ]
  },
  {
   "cell_type": "markdown",
   "metadata": {},
   "source": [
    "### Ideal case of zero drag"
   ]
  },
  {
   "cell_type": "markdown",
   "metadata": {},
   "source": [
    "In this section, we follow the derivation given by Milne-Thompson (1966), which we find a little bit easier than that of the original in \"Aerodonetics\"!\n",
    "\n",
    "An aircraft flying in a steady, straight horizontal flight has a lift equal to its weight. The velocity in this condition is sometimes called _trim velocity_ (\"trim\" is what pilots do to set the controls to just stay in a steady flight). Let's use $v_t$ for the trim velocity, and from $L=W$ deduce that:\n",
    "\n",
    "$$\\begin{equation}\n",
    "W = C_L S \\times\\frac{1}{2} \\rho v_t^2\n",
    "\\end{equation}$$\n",
    "\n",
    "The weight $W$ is constant for the aircraft, but the lift at any other flight condition depends on the flight speed, $v$. We can use the expression for the weight in terms of $v_t$ to obtain the ratio $L/W$ at any other flight velocity, as follows:\n",
    "\n",
    "$$\\begin{equation}\n",
    "\\frac{L}{W}= \\frac{v^2}{v_t^2}\n",
    "\\end{equation}$$\n",
    "\n",
    "Imagine that the aircraft experienced a little upset, a wind gust, and it finds itself off the \"trim\" level, in a curved path with an instantaneous angle $\\theta$. In the sketch below, we exaggerate the curved trajectory of flight to help you visualize what we'll do next. The angle $\\theta$ (using the same name as Milne-Thompson) is between the _trajectory_ and the horizontal, positive up."
   ]
  },
  {
   "cell_type": "markdown",
   "metadata": {},
   "source": [
    "![Image](./figures/glider_forces_nodrag.png)\n",
    "#### Figure 3. Curved trajectory of the aircraft going up."
   ]
  },
  {
   "cell_type": "markdown",
   "metadata": {},
   "source": [
    "A balance of forces now has to take into account that our reference frame is moving with the aircraft, in a rotating frame: we have a centrifugal force. The balance in the direction of lift is thus:\n",
    "\n",
    "$$\\begin{equation}\n",
    "L- W \\cos \\theta = \\frac{W}{g} \\frac{v^2}{R}\n",
    "\\end{equation}$$\n",
    "\n",
    "where $R$ is the radius of curvature of the trajectory, and $g$ the acceleration of gravity. Recall that the centrifugal acceleration is $v^2/R$. Rearrange this by dividing the equation by the weight, and use the expression we found for $L/W$, above. The following equation results:\n",
    "\n",
    "$$\\begin{equation}\n",
    "\\frac{v^2}{v_t^2}-\\cos \\theta = \\frac{v^2}{g R}\n",
    "\\end{equation}$$\n",
    "\n",
    "Recall that we simplified the problem assuming that there is no friction, which means that the total energy is constant (the lift does no work). If $z$ represents the depth below a reference horizontal line, the energy per unit mass is (kinetic plus potential energy):\n",
    "\n",
    "$$\\begin{equation}\n",
    "\\frac{1}{2}v^2-g z = \\text{constant}\n",
    "\\end{equation}$$\n",
    "\n",
    "To get rid of that pesky constant, we can choose the reference horizontal line at the level that makes the constant energy equal to zero, so $v^2 = 2 g z$. That helps us re-write the phugoid equation in terms of $z$ as follows:\n",
    "\n",
    "$$\\begin{equation}\n",
    "\\frac{z}{z_t}-\\cos \\theta = \\frac{2z}{R}\n",
    "\\end{equation}$$\n",
    "\n",
    "Let $ds$ represent a small arc-length of the trajectory. We can write \n",
    "\n",
    "$$\\begin{equation}\n",
    "\\frac{1}{R} = \\frac{d\\theta}{ds} \\quad \\text{and}\\quad  \\sin\\theta = -\\frac{dz}{ds}\n",
    "\\end{equation}$$\n",
    "\n",
    "Employing the chain rule of calculus,\n",
    "\n",
    "$$\\begin{equation}\n",
    "\\frac{1}{R} = \\frac{d\\theta}{ds} = \\frac{dz}{ds}\\frac{d\\theta}{dz} = -\\sin \\theta\\frac{d\\theta}{dz}\n",
    "\\end{equation}$$\n",
    "\n",
    "Multiply the phugoid equation by $\\frac{1}{2\\sqrt{z}}$ to get:\n",
    "\n",
    "$$\\begin{equation}\n",
    "\\frac{\\sqrt{z}}{2z_t} - \\frac{\\cos\\theta}{2\\sqrt{z}} = \\frac{\\sqrt{z}}{R}\n",
    "\\end{equation}$$\n",
    "\n",
    "Substituting for $1/R$ on the right hand side and bringing the cosine term over to the right, we get:\n",
    "\n",
    "$$\\begin{equation}\n",
    "\\frac{\\sqrt{z}}{2z_t} = \\frac{\\cos \\theta}{2 \\sqrt{z}} - \\sqrt{z} \\sin \\theta \\frac{d\\theta}{dz}\n",
    "\\end{equation}$$\n",
    "\n",
    "The right-hand-side is an exact derivative! We can rewrite it as:\n",
    "\n",
    "$$\\begin{equation}\n",
    "\\frac{d}{dz} \\left(\\sqrt{z}\\cos\\theta \\right) = \\frac{\\sqrt{z}}{2z_t}\n",
    "\\end{equation}$$\n",
    "\n",
    "Integrating this equation, we add an arbitrary constant, chosen as $C\\sqrt{z_t}$ which (after dividing through by $\\sqrt{z}$) gives:\n",
    "\n",
    "$$\\begin{equation}\n",
    "\\cos \\theta = \\frac{1}{3}\\frac{z}{z_t} + C\\sqrt{\\frac{z_t}{z}}\n",
    "\\end{equation}$$\n",
    "\n",
    "Taking the derivative of both sides of equation (15) and applying the relations from equation (10) yields:\n",
    "\n",
    "$$\\begin{equation}\n",
    "\\frac{z_t}{R} = \\frac{1}{3} - \\frac{C}{2}\\sqrt{\\frac{z_t^3}{z^3}}\n",
    "\\end{equation}$$\n",
    "\n",
    "Make sure you have followed the derivation, and perhaps write it out on paper!"
   ]
  },
  {
   "cell_type": "markdown",
   "metadata": {},
   "source": [
    "## Phugoid Curves"
   ]
  },
  {
   "cell_type": "markdown",
   "metadata": {},
   "source": [
    "Equation (15) is non-linear, which usually means we are hard-pressed to write a clean expression for the variable of interest, $z$.  In fact, Lanchester himself said that he was unable to _\"reduce this expression to a form suitable for co-ordinate plotting.\"_ If the great polymath couldn't do it, we can't either!\n",
    "\n",
    "But Lanchester _was_ able to plot a suitable approximation of the phugoid flight path using what he called the \"trammel\" method.  If you're interested in seeing how he did it, his explanation begins on page [48 of Aerodonetics](http://books.google.com/books?id=6hxDAAAAIAAJ&pg=PA49&lpg=PA48&dq=aerodonetics+the+use+of+the+trammel&source=bl&ots=lB6EVKYQuT&sig=aVE2kiDWZoWftaWczMIrcYftMOs&hl=en&sa=X&ei=gTD_U82fGYjzgwT3moGwCQ&ved=0CCAQ6AEwAA#v=onepage&q=aerodonetics%20the%20use%20of%20the%20trammel&f=false).  It's a trip.\n",
    "\n",
    "Lanchester used Equations (15) and (16) to solve for the constant $C$ and the radius of curvature $R$ and then iteratively plotted small arcs of the phugoid path. By hand.\n",
    "\n",
    "We wrote a neat little code that duplicates the manual trammel method, but it might be a bit much for you to absorb in the first lesson.  If you want to look it over, you are more than welcome to.  If you are just starting with Python, skip it for the moment and we'll return to it at the end of this module.  "
   ]
  },
  {
   "cell_type": "markdown",
   "metadata": {},
   "source": [
    "### Plotting the flight path"
   ]
  },
  {
   "cell_type": "markdown",
   "metadata": {},
   "source": [
    "As we mentioned, we wrote a Python code to reproduce programmatically what Lanchester did graphically. Here's a neat feature of IPython Notebooks: you can run external programs with the magical keyword ... wait for it ... `run`. And the jargon of IPython _is_ to call this \"magic.\" In fact, there are a bunch of [magic functions](http://ipython.org/ipython-doc/dev/interactive/tutorial.html) that you will learn about. They will make you a happy camper.\n",
    "\n",
    "Let's do it:"
   ]
  },
  {
   "cell_type": "code",
   "execution_count": 2,
   "metadata": {
    "collapsed": false
   },
   "outputs": [],
   "source": [
    "%run phugoid.py\n",
    "%matplotlib inline"
   ]
  },
  {
   "cell_type": "markdown",
   "metadata": {},
   "source": [
    "This code cell loaded our simulated-trammel code, `phugoid.py`. The code defined a function for you in the background, called `plot_flight_path`, taking three inputs: $z_t$, $z$ and $\\theta$.  \n",
    "\n",
    "Look again at Equation (15), where we take the positive square root. There are several possibilities, depending on the value that the constant $C$ takes. \n",
    "\n",
    "* There are no physical solutions for $C>2/3$, because it would result in $\\cos\\theta>1$. \n",
    "\n",
    "* If $C=2/3$, then the solution is a horizontal straight line, because $\\cos\\theta=1$, $\\theta=0$ and $R=\\infty$.\n",
    "\n",
    "* Any value of $C$ for which $0 < C < \\frac{2}{3}$ will produce \"trochoidal\"-like paths.  What does this look like? Let's use our custom function `plot_flight_path` to find out!"
   ]
  },
  {
   "cell_type": "code",
   "execution_count": 3,
   "metadata": {
    "collapsed": false
   },
   "outputs": [
    {
     "data": {
      "image/png": "iVBORw0KGgoAAAANSUhEUgAAAnkAAAGXCAYAAADPr0bOAAAABHNCSVQICAgIfAhkiAAAAAlwSFlz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\nkjpkkSdJktQhizxJkqQO/ReC8MqnTR+UDAAAAABJRU5ErkJggg==\n",
      "text/plain": [
       "<matplotlib.figure.Figure at 0x7f989071bda0>"
      ]
     },
     "metadata": {},
     "output_type": "display_data"
    }
   ],
   "source": [
    "#zt = 64, z = 16, theta=0\n",
    "plot_flight_path(64, 16, 0)"
   ]
  },
  {
   "cell_type": "markdown",
   "metadata": {},
   "source": [
    "Cool!  Note that the plot title tells us what the calculated value of $C$ was for our input conditions.  We have a value of $C$ between $0$ and $\\frac{2}{3}$ and our path is trochoidal, like we announced it would be.\n",
    "\n",
    "* For negative values of $C$, the resultant flight path consists of a series of loops.  Let's try it out!"
   ]
  },
  {
   "cell_type": "code",
   "execution_count": 4,
   "metadata": {
    "collapsed": false
   },
   "outputs": [
    {
     "data": {
      "image/png": "iVBORw0KGgoAAAANSUhEUgAAAnEAAAGXCAYAAADceAY6AAAABHNCSVQICAgIfAhkiAAAAAlwSFlz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\n9P8BkZrYxv8x4nkAAAAASUVORK5CYII=\n",
      "text/plain": [
       "<matplotlib.figure.Figure at 0x7f9871c35c50>"
      ]
     },
     "metadata": {},
     "output_type": "display_data"
    }
   ],
   "source": [
    "plot_flight_path(64,16,numpy.pi)"
   ]
  },
  {
   "cell_type": "markdown",
   "metadata": {},
   "source": [
    "You can play around with the input values and see what kind of behavior results.  Just note that any value of $C > \\frac{2}{3}$ will result in $\\cos \\theta > 1$, which doesn't exist.  Python will probably throw a few errors if you hit that condition, but just try again!"
   ]
  },
  {
   "cell_type": "markdown",
   "metadata": {},
   "source": [
    "* The last case is $C = 0$.  Take another look at Equation (16) and plug in $C = 0$, what should happen? It looks like it will just reduce to \n",
    "\n",
    "$$R = 3z_t$$\n",
    "\n",
    "It's a constant radius of curvature!  In fact, this solution is a series of semi-circles, with a cusp between them. One way to force $C = 0$ that we can figure out from Equation (15), is to make:\n",
    "\n",
    "\n",
    "$$z = 3z_t\\ \\ \\ ,\\ \\ \\  \\theta = 0$$"
   ]
  },
  {
   "cell_type": "code",
   "execution_count": 5,
   "metadata": {
    "collapsed": false
   },
   "outputs": [
    {
     "data": {
      "image/png": "iVBORw0KGgoAAAANSUhEUgAAAmoAAAGXCAYAAAADNnwlAAAABHNCSVQICAgIfAhkiAAAAAlwSFlz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\nAADwqf8PqIwf+pH8u5oAAAAASUVORK5CYII=\n",
      "text/plain": [
       "<matplotlib.figure.Figure at 0x7f9871bb3f28>"
      ]
     },
     "metadata": {},
     "output_type": "display_data"
>>>>>>> numerical-mooc/master
    }
   ],
   "source": [
    "plot_flight_path(16,48,0.)"
   ]
  },
  {
   "cell_type": "markdown",
   "metadata": {},
   "source": [
    "That looks an awful lot like a quarter circle.  And what's the radius of the arc?  It's $$r = 48 = 3z_t.$$\n",
    "\n",
    "We can also get a semi-circle out of our simulated trammel by changing to another configuration where $C$ is (near) zero. Here's one example:"
   ]
  },
  {
   "cell_type": "code",
   "execution_count": 6,
   "metadata": {
    "collapsed": false
   },
   "outputs": [
    {
     "data": {
      "image/png": "iVBORw0KGgoAAAANSUhEUgAAAnoAAAGXCAYAAAAkmP3NAAAABHNCSVQICAgIfAhkiAAAAAlwSFlz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\n",
      "text/plain": [
       "<matplotlib.figure.Figure at 0x7f9871bae6a0>"
      ]
     },
     "metadata": {},
     "output_type": "display_data"
    }
   ],
   "source": [
    "plot_flight_path(64,16,-numpy.pi/2)"
   ]
  },
  {
   "cell_type": "markdown",
   "metadata": {},
   "source": [
    "That is so nice. We have reproduced the trajectories that Lanchester found more than a hundred years ago, painstakingly drawing them by hand with a contraption called a \"trammel.\" It must have taken him days!\n",
    "\n",
    "Here is how the different phugoid curves are drawn in von Kármán's book, _Aerodynamics_ (1957). He never says _how_ he drew them, but we're guessing by hand, also. We did pretty good!"
   ]
  },
  {
   "cell_type": "markdown",
   "metadata": {},
   "source": [
    "![Image](./figures/vonKarman-phugoids.png)\n",
    "\n",
    "#### Figure 4. Phugoid curves in von Kármán (1957)."
   ]
  },
  {
   "cell_type": "markdown",
   "metadata": {},
   "source": [
    "In the next notebook of this series, we'll look at the differential equation that arises when you consider small perturbations on the horizontal phugoid, and we'll learn to numerically integrate that to get the flight paths."
   ]
  },
  {
   "cell_type": "markdown",
   "metadata": {},
   "source": [
    "## References"
   ]
  },
  {
   "cell_type": "markdown",
   "metadata": {},
   "source": [
    "1. Lanchester, F. W. _Aerodonetics_, D. van Nostrand Company: New York, 1909. On the public domain. [Get it from Google Books](http://books.google.com/books?id=6hxDAAAAIAAJ&pg=PP1#v=onepage&q&f=false).\n",
    "\n",
    "2. Milne-Thompson, L. M. _Theoretical Aerodynamics_, Dover 2012 reprint of the revised 1966 edition. [Read on Google Books](http://books.google.com/books?id=EMfCAgAAQBAJ&lpg=PP1&pg=PP1#v=onepage&q&f=false) (see section 18.5)\n",
    "\n",
    "3. Sinha, N. K. and Ananthkrishnan, N. _Elementary Flight Dynamics with an introduction to Bifurcation and Continuation Methods_, CRC Press, 2013. [Read on Google Books](http://books.google.com/books?id=yXL6AQAAQBAJ&lpg=PP1&pg=PP1#v=onepage&q&f=false) (see chapter 5)\n",
    "\n",
    "4. von Kármán, T. _Aerodynamics_, Dover 2004 reprint of the 1957 2nd edition. (see pages 149–151)"
   ]
  },
  {
   "cell_type": "markdown",
   "metadata": {},
   "source": [
    "---\n",
    "\n",
    "###### The cell below loads the style of this notebook. "
   ]
  },
  {
   "cell_type": "code",
   "execution_count": 7,
   "metadata": {
    "collapsed": false
   },
   "outputs": [
    {
     "data": {
      "text/html": [
       "<link href='http://fonts.googleapis.com/css?family=Alegreya+Sans:100,300,400,500,700,800,900,100italic,300italic,400italic,500italic,700italic,800italic,900italic' rel='stylesheet' type='text/css'>\n",
       "<link href='http://fonts.googleapis.com/css?family=Arvo:400,700,400italic' rel='stylesheet' type='text/css'>\n",
       "<link href='http://fonts.googleapis.com/css?family=PT+Mono' rel='stylesheet' type='text/css'>\n",
       "<link href='http://fonts.googleapis.com/css?family=Shadows+Into+Light' rel='stylesheet' type='text/css'>\n",
       "<link href='http://fonts.googleapis.com/css?family=Nixie+One' rel='stylesheet' type='text/css'>\n",
       "<style>\n",
       "\n",
       "@font-face {\n",
       "    font-family: \"Computer Modern\";\n",
       "    src: url('http://mirrors.ctan.org/fonts/cm-unicode/fonts/otf/cmunss.otf');\n",
       "}\n",
       "\n",
       "#notebook_panel { /* main background */\n",
       "    background: rgb(245,245,245);\n",
       "}\n",
       "\n",
       "div.cell { /* set cell width */\n",
       "    width: 750px;\n",
       "}\n",
       "\n",
       "div #notebook { /* centre the content */\n",
       "    background: #fff; /* white background for content */\n",
       "    width: 1000px;\n",
       "    margin: auto;\n",
       "    padding-left: 0em;\n",
       "}\n",
       "\n",
       "#notebook li { /* More space between bullet points */\n",
       "    margin-top:0.8em;\n",
       "}\n",
       "\n",
       "/* draw border around running cells */\n",
       "div.cell.border-box-sizing.code_cell.running { \n",
       "    border: 1px solid #111;\n",
       "}\n",
       "\n",
       "/* Put a solid color box around each cell and its output, visually linking them*/\n",
       "div.cell.code_cell {\n",
       "    background-color: rgb(256,256,256); \n",
       "    border-radius: 0px; \n",
       "    padding: 0.5em;\n",
       "    margin-left:1em;\n",
       "    margin-top: 1em;\n",
       "}\n",
       "\n",
       "div.text_cell_render{\n",
       "    font-family: 'Alegreya Sans' sans-serif;\n",
       "    line-height: 140%;\n",
       "    font-size: 125%;\n",
       "    font-weight: 400;\n",
       "    width:600px;\n",
       "    margin-left:auto;\n",
       "    margin-right:auto;\n",
       "}\n",
       "\n",
       "\n",
       "/* Formatting for header cells */\n",
       ".text_cell_render h1 {\n",
       "    font-family: 'Nixie One', serif;\n",
       "    font-style:regular;\n",
       "    font-weight: 400;    \n",
       "    font-size: 45pt;\n",
       "    line-height: 100%;\n",
       "    color: rgb(0,51,102);\n",
       "    margin-bottom: 0.5em;\n",
       "    margin-top: 0.5em;\n",
       "    display: block;\n",
       "}\n",
       "\n",
       ".text_cell_render h2 {\n",
       "    font-family: 'Nixie One', serif;\n",
       "    font-weight: 400;\n",
       "    font-size: 30pt;\n",
       "    line-height: 100%;\n",
       "    color: rgb(0,51,102);\n",
       "    margin-bottom: 0.1em;\n",
       "    margin-top: 0.3em;\n",
       "    display: block;\n",
       "}\t\n",
       "\n",
       ".text_cell_render h3 {\n",
       "    font-family: 'Nixie One', serif;\n",
       "    margin-top:16px;\n",
       "    font-size: 22pt;\n",
       "    font-weight: 600;\n",
       "    margin-bottom: 3px;\n",
       "    font-style: regular;\n",
       "    color: rgb(102,102,0);\n",
       "}\n",
       "\n",
       ".text_cell_render h4 {    /*Use this for captions*/\n",
       "    font-family: 'Nixie One', serif;\n",
       "    font-size: 14pt;\n",
       "    text-align: center;\n",
       "    margin-top: 0em;\n",
       "    margin-bottom: 2em;\n",
       "    font-style: regular;\n",
       "}\n",
       "\n",
       ".text_cell_render h5 {  /*Use this for small titles*/\n",
       "    font-family: 'Nixie One', sans-serif;\n",
       "    font-weight: 400;\n",
       "    font-size: 16pt;\n",
       "    color: rgb(163,0,0);\n",
       "    font-style: italic;\n",
       "    margin-bottom: .1em;\n",
       "    margin-top: 0.8em;\n",
       "    display: block;\n",
       "}\n",
       "\n",
       ".text_cell_render h6 { /*use this for copyright note*/\n",
       "    font-family: 'PT Mono', sans-serif;\n",
       "    font-weight: 300;\n",
       "    font-size: 9pt;\n",
       "    line-height: 100%;\n",
       "    color: grey;\n",
       "    margin-bottom: 1px;\n",
       "    margin-top: 1px;\n",
       "}\n",
       "\n",
       ".CodeMirror{\n",
       "    font-family: \"PT Mono\";\n",
       "    font-size: 90%;\n",
       "}\n",
       "\n",
       "</style>\n",
       "<script>\n",
       "    MathJax.Hub.Config({\n",
       "                        TeX: {\n",
       "                           extensions: [\"AMSmath.js\"],\n",
       "                           equationNumbers: { autoNumber: \"AMS\", useLabelIds: true}\n",
       "                           },\n",
       "                tex2jax: {\n",
       "                    inlineMath: [ ['$','$'], [\"\\\\(\",\"\\\\)\"] ],\n",
       "                    displayMath: [ ['$$','$$'], [\"\\\\[\",\"\\\\]\"] ]\n",
       "                },\n",
       "                displayAlign: 'center', // Change this to 'center' to center equations.\n",
       "                \"HTML-CSS\": {\n",
       "                    styles: {'.MathJax_Display': {\"margin\": 4}}\n",
       "                }\n",
       "        });\n",
       "</script>\n"
      ],
      "text/plain": [
       "<IPython.core.display.HTML object>"
      ]
     },
     "execution_count": 7,
     "metadata": {},
     "output_type": "execute_result"
    }
   ],
   "source": [
    "# Execute this cell to load the notebook's style sheet, then ignore it\n",
    "from IPython.core.display import HTML\n",
    "css_file = '../../styles/numericalmoocstyle.css'\n",
    "HTML(open(css_file, \"r\").read())"
   ]
  }
 ],
 "metadata": {
  "kernelspec": {
   "display_name": "Python 3",
   "language": "python",
   "name": "python3"
  },
  "language_info": {
   "codemirror_mode": {
    "name": "ipython",
    "version": 3
   },
   "file_extension": ".py",
   "mimetype": "text/x-python",
   "name": "python",
   "nbconvert_exporter": "python",
   "pygments_lexer": "ipython3",
   "version": "3.4.3"
  }
 },
 "nbformat": 4,
 "nbformat_minor": 0
}
